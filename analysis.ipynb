{
 "cells": [
  {
   "cell_type": "code",
   "execution_count": 0,
   "metadata": {
    "application/vnd.databricks.v1+cell": {
     "cellMetadata": {
      "byteLimit": 2048000,
      "rowLimit": 10000
     },
     "inputWidgets": {},
     "nuid": "5e101bf3-9174-4ed5-9120-1437b285924b",
     "showTitle": true,
     "tableResultSettingsMap": {},
     "title": "Import DataFrame"
    }
   },
   "outputs": [],
   "source": [
    "%run /Workspace/Users/leonardocapriglione@gmail.com/ifood-case/Case-iFood/src"
   ]
  },
  {
   "cell_type": "code",
   "execution_count": 0,
   "metadata": {
    "application/vnd.databricks.v1+cell": {
     "cellMetadata": {
      "byteLimit": 2048000,
      "rowLimit": 10000
     },
     "inputWidgets": {},
     "nuid": "a251f51c-e217-4566-aefd-905f89121e47",
     "showTitle": true,
     "tableResultSettingsMap": {},
     "title": "Criando tabela Temporária do DataFrame"
    }
   },
   "outputs": [],
   "source": [
    "df.createOrReplaceTempView(\"yellow_taxi_table\")"
   ]
  },
  {
   "cell_type": "code",
   "execution_count": 0,
   "metadata": {
    "application/vnd.databricks.v1+cell": {
     "cellMetadata": {
      "byteLimit": 2048000,
      "rowLimit": 10000
     },
     "inputWidgets": {},
     "nuid": "686529de-9d72-4c8c-9c7b-811ed099bab7",
     "showTitle": true,
     "tableResultSettingsMap": {},
     "title": "Primeira Resposta Média mensal do valor recebido"
    }
   },
   "outputs": [],
   "source": [
    "resposta1 = spark.sql(\"\"\"\n",
    "    SELECT\n",
    "        date_format(pickup_date, 'yyyy-MM') AS ano_mes,\n",
    "        ROUND(AVG(total_amount), 2) AS media_total_amount\n",
    "    FROM\n",
    "        yellow_taxi_table\n",
    "    WHERE\n",
    "        tpep_dropoff_datetime IS NOT NULL\n",
    "    GROUP BY\n",
    "        date_format(pickup_date, 'yyyy-MM')\n",
    "    ORDER BY\n",
    "        ano_mes\n",
    "\"\"\")\n",
    "\n",
    "meses_desejados = ['2023-01', '2023-02', '2023-03', '2023-04', '2023-05']\n",
    "\n",
    "df_filtrado = resposta1.filter(col('ano_mes').isin(meses_desejados)).orderBy('ano_mes')\n",
    "\n",
    "for row in df_filtrado.collect():\n",
    "    print(f\"No mês de {row['ano_mes']} a média foi de: {row['media_total_amount']:.2f}\")\n"
   ]
  },
  {
   "cell_type": "code",
   "execution_count": 0,
   "metadata": {
    "application/vnd.databricks.v1+cell": {
     "cellMetadata": {
      "byteLimit": 2048000,
      "rowLimit": 10000
     },
     "inputWidgets": {},
     "nuid": "639107e4-1a09-4037-b78e-260a07be34d6",
     "showTitle": false,
     "tableResultSettingsMap": {},
     "title": ""
    }
   },
   "outputs": [],
   "source": [
    "resposta2 = spark.sql(\"\"\"SELECT\n",
    "    hour(pickup_time) as hour_of_day,\n",
    "    ROUND(AVG(passenger_count), 2) AS avg_passager\n",
    "FROM\n",
    "    yellow_taxi_table\n",
    "WHERE\n",
    "    pickup_date >= DATE('2023-05-01')\n",
    "    AND pickup_date < DATE('2023-06-01')\n",
    "GROUP BY\n",
    "    hour(pickup_time)\n",
    "ORDER BY\n",
    "    hour_of_day\"\"\")\n",
    "\n",
    "for row in resposta2.orderBy(\"hour_of_day\").collect():\n",
    "    hour = row['hour_of_day']\n",
    "    avg_passager = row['avg_passager']\n",
    "    print(f\"Na hora {hour} a média de passageiros foi de: {avg_passager:.2f}\")"
   ]
  }
 ],
 "metadata": {
  "application/vnd.databricks.v1+notebook": {
   "computePreferences": null,
   "dashboards": [],
   "environmentMetadata": {
    "base_environment": "",
    "environment_version": "2"
   },
   "inputWidgetPreferences": null,
   "language": "python",
   "notebookMetadata": {
    "pythonIndentUnit": 4
   },
   "notebookName": "analysis",
   "widgets": {}
  },
  "language_info": {
   "name": "python"
  }
 },
 "nbformat": 4,
 "nbformat_minor": 0
}
